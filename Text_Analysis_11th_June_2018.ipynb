{
  "nbformat": 4,
  "nbformat_minor": 0,
  "metadata": {
    "kernelspec": {
      "display_name": "Python 3",
      "language": "python",
      "name": "python3"
    },
    "language_info": {
      "codemirror_mode": {
        "name": "ipython",
        "version": 3
      },
      "file_extension": ".py",
      "mimetype": "text/x-python",
      "name": "python",
      "nbconvert_exporter": "python",
      "pygments_lexer": "ipython3",
      "version": "3.7.3"
    },
    "colab": {
      "name": "Text_Analysis  11th_June_2018.ipynb",
      "provenance": [],
      "toc_visible": true,
      "include_colab_link": true
    }
  },
  "cells": [
    {
      "cell_type": "markdown",
      "metadata": {
        "id": "view-in-github",
        "colab_type": "text"
      },
      "source": [
        "<a href=\"https://colab.research.google.com/github/olawale0254/AI-Invasion-2018-UNNIVERSITY-OF-UYO/blob/master/Text_Analysis_11th_June_2018.ipynb\" target=\"_parent\"><img src=\"https://colab.research.google.com/assets/colab-badge.svg\" alt=\"Open In Colab\"/></a>"
      ]
    },
    {
      "cell_type": "markdown",
      "metadata": {
        "id": "wuGfp8qjdiy6",
        "colab_type": "text"
      },
      "source": [
        "<img src=\"images/Section1_Streaming_Data.png\">"
      ]
    },
    {
      "cell_type": "markdown",
      "metadata": {
        "id": "VmMIsOj1dizK",
        "colab_type": "text"
      },
      "source": [
        "# 1. Streaming data from social media and other sources"
      ]
    },
    {
      "cell_type": "markdown",
      "metadata": {
        "id": "rbxVBsfVdizX",
        "colab_type": "text"
      },
      "source": [
        "## 1. Importing the Necessary packages"
      ]
    },
    {
      "cell_type": "markdown",
      "metadata": {
        "id": "NFYPLbYkdizq",
        "colab_type": "text"
      },
      "source": [
        "### 1.1 Importing data related packages"
      ]
    },
    {
      "cell_type": "code",
      "metadata": {
        "id": "2ONQi-ntdiz4",
        "colab_type": "code",
        "colab": {}
      },
      "source": [
        "import pandas as pd\n",
        "pd.set_option('display.max.columns', None)\n",
        "import numpy as np\n",
        "import os\n",
        "import json"
      ],
      "execution_count": 1,
      "outputs": []
    },
    {
      "cell_type": "code",
      "metadata": {
        "scrolled": true,
        "id": "QJagGPkNdi1L",
        "colab_type": "code",
        "colab": {
          "base_uri": "https://localhost:8080/",
          "height": 35
        },
        "outputId": "7bc75e7d-5e66-4210-c977-e13301f07db8"
      },
      "source": [
        "os.getcwd()"
      ],
      "execution_count": 2,
      "outputs": [
        {
          "output_type": "execute_result",
          "data": {
            "application/vnd.google.colaboratory.intrinsic": {
              "type": "string"
            },
            "text/plain": [
              "'/content'"
            ]
          },
          "metadata": {
            "tags": []
          },
          "execution_count": 2
        }
      ]
    },
    {
      "cell_type": "markdown",
      "metadata": {
        "id": "Z7PQLadVdi2H",
        "colab_type": "text"
      },
      "source": [
        "### 1.2 Importing Tweepy"
      ]
    },
    {
      "cell_type": "code",
      "metadata": {
        "id": "9RZtBnlPdi2Q",
        "colab_type": "code",
        "colab": {}
      },
      "source": [
        "import tweepy\n",
        "from tweepy.streaming import StreamListener\n",
        "from tweepy import OAuthHandler\n",
        "from tweepy import Stream"
      ],
      "execution_count": 3,
      "outputs": []
    },
    {
      "cell_type": "markdown",
      "metadata": {
        "id": "e8-XPDecdi3V",
        "colab_type": "text"
      },
      "source": [
        "## 2. Accesssing Twitter from python"
      ]
    },
    {
      "cell_type": "markdown",
      "metadata": {
        "id": "6LQQn3bcdi3t",
        "colab_type": "text"
      },
      "source": [
        "### 2.1 Twitter access keys"
      ]
    },
    {
      "cell_type": "code",
      "metadata": {
        "id": "E0ZhqbCQdi33",
        "colab_type": "code",
        "colab": {}
      },
      "source": [
        "# api_key = \"Z6GniRGmuEuhVH0Q11R3aXk4o\"\n",
        "# api_secret = \"Z1P4TXCE9OCgxRSsM09nd3i3ZGS8eJbGUe2hLb4juZpDdrJOmc\"\n",
        "# access_token = \"827070455727214592-RKzyjv0gDpo5haxayg8RM2MHKzR8AIb\"\n",
        "# access_token_secret = \"ZvQoEcg4YVfTyew170jwyZS9XryrZaGmHgev2NhKoBZL7\""
      ],
      "execution_count": null,
      "outputs": []
    },
    {
      "cell_type": "markdown",
      "metadata": {
        "id": "hQyipnz_di5K",
        "colab_type": "text"
      },
      "source": [
        "### 2.2 Twitter access authetication"
      ]
    },
    {
      "cell_type": "code",
      "metadata": {
        "id": "FlcG4NHQdi5R",
        "colab_type": "code",
        "colab": {}
      },
      "source": [
        "auth = tweepy.OAuthHandler(api_key, api_secret)\n",
        "auth.set_access_token(access_token, access_token_secret)\n",
        "api = tweepy.API(auth)"
      ],
      "execution_count": null,
      "outputs": []
    },
    {
      "cell_type": "markdown",
      "metadata": {
        "id": "4QlKgIaxdi6K",
        "colab_type": "text"
      },
      "source": [
        "## 4. Twitter Search"
      ]
    },
    {
      "cell_type": "markdown",
      "metadata": {
        "id": "2yr634p_di6b",
        "colab_type": "text"
      },
      "source": [
        "### 4.1 Searching for any value "
      ]
    },
    {
      "cell_type": "code",
      "metadata": {
        "id": "VyNzrkaGdi6k",
        "colab_type": "code",
        "colab": {}
      },
      "source": [
        "tweets = api.search(q='Africa4Ai', count=50)"
      ],
      "execution_count": null,
      "outputs": []
    },
    {
      "cell_type": "code",
      "metadata": {
        "id": "4s94mPn4di7K",
        "colab_type": "code",
        "colab": {},
        "outputId": "136653c9-ce69-4cfe-a3b2-803c002b57fc"
      },
      "source": [
        "for tweet in tweets:\n",
        "    print(tweet.text)"
      ],
      "execution_count": null,
      "outputs": [
        {
          "output_type": "stream",
          "text": [
            "RT @Africa4Ai: This is highly recommended. Smart tools for modern researchers - click on the link below \n",
            "https://t.co/A3jFiO2aWa\n",
            "\n",
            "#research…\n",
            "RT @Africa4Ai: This is highly recommended. Smart tools for modern researchers - click on the link below \n",
            "https://t.co/A3jFiO2aWa\n",
            "\n",
            "#research…\n",
            "This is highly recommended. Smart tools for modern researchers - click on the link below \n",
            "https://t.co/A3jFiO2aWa… https://t.co/iLFwlrNPeB\n"
          ],
          "name": "stdout"
        }
      ]
    },
    {
      "cell_type": "markdown",
      "metadata": {
        "id": "uyXmA6s3di74",
        "colab_type": "text"
      },
      "source": [
        "### 4.2 Storing the results in JSON file"
      ]
    },
    {
      "cell_type": "code",
      "metadata": {
        "id": "YYj_WU4Idi8C",
        "colab_type": "code",
        "colab": {},
        "outputId": "7ab29e98-ae6a-4e4c-84c2-ebc6744228dd"
      },
      "source": [
        "searched_tweets = [each._json for each in tweets]\n",
        "json_strings = [json.dumps(json_obj) for json_obj in searched_tweets]\n",
        "searched_tweets[0]"
      ],
      "execution_count": null,
      "outputs": [
        {
          "output_type": "execute_result",
          "data": {
            "text/plain": [
              "{'created_at': 'Mon Jun 08 23:16:50 +0000 2020',\n",
              " 'id': 1270132710909136900,\n",
              " 'id_str': '1270132710909136900',\n",
              " 'text': 'RT @Africa4Ai: This is highly recommended. Smart tools for modern researchers - click on the link below \\nhttps://t.co/A3jFiO2aWa\\n\\n#research…',\n",
              " 'truncated': False,\n",
              " 'entities': {'hashtags': [{'text': 'research', 'indices': [130, 139]}],\n",
              "  'symbols': [],\n",
              "  'user_mentions': [{'screen_name': 'Africa4Ai',\n",
              "    'name': 'Africa4AI',\n",
              "    'id': 1192076733643669504,\n",
              "    'id_str': '1192076733643669504',\n",
              "    'indices': [3, 13]}],\n",
              "  'urls': [{'url': 'https://t.co/A3jFiO2aWa',\n",
              "    'expanded_url': 'https://lnkd.in/e7eqk6M',\n",
              "    'display_url': 'lnkd.in/e7eqk6M',\n",
              "    'indices': [105, 128]}]},\n",
              " 'metadata': {'iso_language_code': 'en', 'result_type': 'recent'},\n",
              " 'source': '<a href=\"http://twitter.com/download/android\" rel=\"nofollow\">Twitter for Android</a>',\n",
              " 'in_reply_to_status_id': None,\n",
              " 'in_reply_to_status_id_str': None,\n",
              " 'in_reply_to_user_id': None,\n",
              " 'in_reply_to_user_id_str': None,\n",
              " 'in_reply_to_screen_name': None,\n",
              " 'user': {'id': 167762991,\n",
              "  'id_str': '167762991',\n",
              "  'name': 'Oghenero',\n",
              "  'screen_name': 'johngod40',\n",
              "  'location': '',\n",
              "  'description': 'Data Scientist || Statistician ||\\nIG: johngodday || Lover of God',\n",
              "  'url': 'https://t.co/RXHHormmey',\n",
              "  'entities': {'url': {'urls': [{'url': 'https://t.co/RXHHormmey',\n",
              "      'expanded_url': 'http://sharedinfos.blogspot.com',\n",
              "      'display_url': 'sharedinfos.blogspot.com',\n",
              "      'indices': [0, 23]}]},\n",
              "   'description': {'urls': []}},\n",
              "  'protected': False,\n",
              "  'followers_count': 3026,\n",
              "  'friends_count': 3029,\n",
              "  'listed_count': 6,\n",
              "  'created_at': 'Sat Jul 17 12:49:22 +0000 2010',\n",
              "  'favourites_count': 1760,\n",
              "  'utc_offset': None,\n",
              "  'time_zone': None,\n",
              "  'geo_enabled': True,\n",
              "  'verified': False,\n",
              "  'statuses_count': 2443,\n",
              "  'lang': None,\n",
              "  'contributors_enabled': False,\n",
              "  'is_translator': False,\n",
              "  'is_translation_enabled': False,\n",
              "  'profile_background_color': '352726',\n",
              "  'profile_background_image_url': 'http://abs.twimg.com/images/themes/theme5/bg.gif',\n",
              "  'profile_background_image_url_https': 'https://abs.twimg.com/images/themes/theme5/bg.gif',\n",
              "  'profile_background_tile': False,\n",
              "  'profile_image_url': 'http://pbs.twimg.com/profile_images/1228026267892699136/N6myKsPT_normal.jpg',\n",
              "  'profile_image_url_https': 'https://pbs.twimg.com/profile_images/1228026267892699136/N6myKsPT_normal.jpg',\n",
              "  'profile_banner_url': 'https://pbs.twimg.com/profile_banners/167762991/1563467928',\n",
              "  'profile_link_color': 'D02B55',\n",
              "  'profile_sidebar_border_color': '829D5E',\n",
              "  'profile_sidebar_fill_color': '99CC33',\n",
              "  'profile_text_color': '3E4415',\n",
              "  'profile_use_background_image': True,\n",
              "  'has_extended_profile': True,\n",
              "  'default_profile': False,\n",
              "  'default_profile_image': False,\n",
              "  'following': False,\n",
              "  'follow_request_sent': False,\n",
              "  'notifications': False,\n",
              "  'translator_type': 'none'},\n",
              " 'geo': None,\n",
              " 'coordinates': None,\n",
              " 'place': None,\n",
              " 'contributors': None,\n",
              " 'retweeted_status': {'created_at': 'Mon Jun 08 13:56:05 +0000 2020',\n",
              "  'id': 1269991593811066881,\n",
              "  'id_str': '1269991593811066881',\n",
              "  'text': 'This is highly recommended. Smart tools for modern researchers - click on the link below \\nhttps://t.co/A3jFiO2aWa… https://t.co/iLFwlrNPeB',\n",
              "  'truncated': True,\n",
              "  'entities': {'hashtags': [],\n",
              "   'symbols': [],\n",
              "   'user_mentions': [],\n",
              "   'urls': [{'url': 'https://t.co/A3jFiO2aWa',\n",
              "     'expanded_url': 'https://lnkd.in/e7eqk6M',\n",
              "     'display_url': 'lnkd.in/e7eqk6M',\n",
              "     'indices': [90, 113]},\n",
              "    {'url': 'https://t.co/iLFwlrNPeB',\n",
              "     'expanded_url': 'https://twitter.com/i/web/status/1269991593811066881',\n",
              "     'display_url': 'twitter.com/i/web/status/1…',\n",
              "     'indices': [115, 138]}]},\n",
              "  'metadata': {'iso_language_code': 'en', 'result_type': 'recent'},\n",
              "  'source': '<a href=\"https://mobile.twitter.com\" rel=\"nofollow\">Twitter Web App</a>',\n",
              "  'in_reply_to_status_id': None,\n",
              "  'in_reply_to_status_id_str': None,\n",
              "  'in_reply_to_user_id': None,\n",
              "  'in_reply_to_user_id_str': None,\n",
              "  'in_reply_to_screen_name': None,\n",
              "  'user': {'id': 1192076733643669504,\n",
              "   'id_str': '1192076733643669504',\n",
              "   'name': 'Africa4AI',\n",
              "   'screen_name': 'Africa4Ai',\n",
              "   'location': 'Africa',\n",
              "   'description': 'This is  a medium that showcases how Africa has embraced artificial intelligence and other useful information.',\n",
              "   'url': 'https://t.co/eniHq8kKp1',\n",
              "   'entities': {'url': {'urls': [{'url': 'https://t.co/eniHq8kKp1',\n",
              "       'expanded_url': 'http://www.africa4ai.com/',\n",
              "       'display_url': 'africa4ai.com',\n",
              "       'indices': [0, 23]}]},\n",
              "    'description': {'urls': []}},\n",
              "   'protected': False,\n",
              "   'followers_count': 143,\n",
              "   'friends_count': 216,\n",
              "   'listed_count': 3,\n",
              "   'created_at': 'Wed Nov 06 13:50:22 +0000 2019',\n",
              "   'favourites_count': 113,\n",
              "   'utc_offset': None,\n",
              "   'time_zone': None,\n",
              "   'geo_enabled': False,\n",
              "   'verified': False,\n",
              "   'statuses_count': 35,\n",
              "   'lang': None,\n",
              "   'contributors_enabled': False,\n",
              "   'is_translator': False,\n",
              "   'is_translation_enabled': False,\n",
              "   'profile_background_color': 'F5F8FA',\n",
              "   'profile_background_image_url': None,\n",
              "   'profile_background_image_url_https': None,\n",
              "   'profile_background_tile': False,\n",
              "   'profile_image_url': 'http://pbs.twimg.com/profile_images/1192076867743944704/lw6Hn8wH_normal.png',\n",
              "   'profile_image_url_https': 'https://pbs.twimg.com/profile_images/1192076867743944704/lw6Hn8wH_normal.png',\n",
              "   'profile_banner_url': 'https://pbs.twimg.com/profile_banners/1192076733643669504/1573048537',\n",
              "   'profile_link_color': '1DA1F2',\n",
              "   'profile_sidebar_border_color': 'C0DEED',\n",
              "   'profile_sidebar_fill_color': 'DDEEF6',\n",
              "   'profile_text_color': '333333',\n",
              "   'profile_use_background_image': True,\n",
              "   'has_extended_profile': False,\n",
              "   'default_profile': True,\n",
              "   'default_profile_image': False,\n",
              "   'following': True,\n",
              "   'follow_request_sent': False,\n",
              "   'notifications': False,\n",
              "   'translator_type': 'none'},\n",
              "  'geo': None,\n",
              "  'coordinates': None,\n",
              "  'place': None,\n",
              "  'contributors': None,\n",
              "  'is_quote_status': False,\n",
              "  'retweet_count': 2,\n",
              "  'favorite_count': 3,\n",
              "  'favorited': False,\n",
              "  'retweeted': False,\n",
              "  'possibly_sensitive': False,\n",
              "  'lang': 'en'},\n",
              " 'is_quote_status': False,\n",
              " 'retweet_count': 2,\n",
              " 'favorite_count': 0,\n",
              " 'favorited': False,\n",
              " 'retweeted': False,\n",
              " 'possibly_sensitive': False,\n",
              " 'lang': 'en'}"
            ]
          },
          "metadata": {
            "tags": []
          },
          "execution_count": 7
        }
      ]
    },
    {
      "cell_type": "code",
      "metadata": {
        "id": "te9fOXgadi85",
        "colab_type": "code",
        "colab": {},
        "outputId": "76c6499d-8b53-410c-fab9-881479fc6b34"
      },
      "source": [
        "searched_tweets[0]['user']"
      ],
      "execution_count": null,
      "outputs": [
        {
          "output_type": "execute_result",
          "data": {
            "text/plain": [
              "{'id': 167762991,\n",
              " 'id_str': '167762991',\n",
              " 'name': 'Oghenero',\n",
              " 'screen_name': 'johngod40',\n",
              " 'location': '',\n",
              " 'description': 'Data Scientist || Statistician ||\\nIG: johngodday || Lover of God',\n",
              " 'url': 'https://t.co/RXHHormmey',\n",
              " 'entities': {'url': {'urls': [{'url': 'https://t.co/RXHHormmey',\n",
              "     'expanded_url': 'http://sharedinfos.blogspot.com',\n",
              "     'display_url': 'sharedinfos.blogspot.com',\n",
              "     'indices': [0, 23]}]},\n",
              "  'description': {'urls': []}},\n",
              " 'protected': False,\n",
              " 'followers_count': 3026,\n",
              " 'friends_count': 3029,\n",
              " 'listed_count': 6,\n",
              " 'created_at': 'Sat Jul 17 12:49:22 +0000 2010',\n",
              " 'favourites_count': 1760,\n",
              " 'utc_offset': None,\n",
              " 'time_zone': None,\n",
              " 'geo_enabled': True,\n",
              " 'verified': False,\n",
              " 'statuses_count': 2443,\n",
              " 'lang': None,\n",
              " 'contributors_enabled': False,\n",
              " 'is_translator': False,\n",
              " 'is_translation_enabled': False,\n",
              " 'profile_background_color': '352726',\n",
              " 'profile_background_image_url': 'http://abs.twimg.com/images/themes/theme5/bg.gif',\n",
              " 'profile_background_image_url_https': 'https://abs.twimg.com/images/themes/theme5/bg.gif',\n",
              " 'profile_background_tile': False,\n",
              " 'profile_image_url': 'http://pbs.twimg.com/profile_images/1228026267892699136/N6myKsPT_normal.jpg',\n",
              " 'profile_image_url_https': 'https://pbs.twimg.com/profile_images/1228026267892699136/N6myKsPT_normal.jpg',\n",
              " 'profile_banner_url': 'https://pbs.twimg.com/profile_banners/167762991/1563467928',\n",
              " 'profile_link_color': 'D02B55',\n",
              " 'profile_sidebar_border_color': '829D5E',\n",
              " 'profile_sidebar_fill_color': '99CC33',\n",
              " 'profile_text_color': '3E4415',\n",
              " 'profile_use_background_image': True,\n",
              " 'has_extended_profile': True,\n",
              " 'default_profile': False,\n",
              " 'default_profile_image': False,\n",
              " 'following': False,\n",
              " 'follow_request_sent': False,\n",
              " 'notifications': False,\n",
              " 'translator_type': 'none'}"
            ]
          },
          "metadata": {
            "tags": []
          },
          "execution_count": 8
        }
      ]
    },
    {
      "cell_type": "markdown",
      "metadata": {
        "id": "YEhfXLzYdi9t",
        "colab_type": "text"
      },
      "source": [
        "### 4.1 Searching with date restriction"
      ]
    },
    {
      "cell_type": "code",
      "metadata": {
        "id": "thGrfVAndi93",
        "colab_type": "code",
        "colab": {}
      },
      "source": [
        "search_request =\"Africa4Ai\"\n",
        "date_since = \"2020-01-01\"\n",
        "tweets_count = 500\n",
        "results =[]\n",
        "retrived_tweets = tweepy.Cursor(api.search, q=search_request ,lang=\"en\",since=date_since).items(tweets_count)"
      ],
      "execution_count": null,
      "outputs": []
    },
    {
      "cell_type": "code",
      "metadata": {
        "id": "zLhtduiidi-x",
        "colab_type": "code",
        "colab": {}
      },
      "source": [
        "for tweet in retrived_tweets:\n",
        "    results.append([tweet.user.id,\n",
        "                    tweet.created_at,\n",
        "                    tweet.user.screen_name,\n",
        "                    tweet.user.name,\n",
        "                    tweet.user.location,\n",
        "                    tweet.text,\n",
        "                    tweet.user.followers_count,\n",
        "                    tweet.user.friends_count,\n",
        "                    tweet.truncated ])"
      ],
      "execution_count": null,
      "outputs": []
    },
    {
      "cell_type": "code",
      "metadata": {
        "scrolled": true,
        "id": "wbmELIChdi_f",
        "colab_type": "code",
        "colab": {},
        "outputId": "95f8ae63-3fa3-461a-fbfe-867792f923b2"
      },
      "source": [
        "results_data = pd.DataFrame(results)\n",
        "print('Number of Tweets',len(results_data))\n",
        "results_data.head(3)"
      ],
      "execution_count": null,
      "outputs": [
        {
          "output_type": "stream",
          "text": [
            "Number of Tweets 3\n"
          ],
          "name": "stdout"
        },
        {
          "output_type": "execute_result",
          "data": {
            "text/html": [
              "<div>\n",
              "<style scoped>\n",
              "    .dataframe tbody tr th:only-of-type {\n",
              "        vertical-align: middle;\n",
              "    }\n",
              "\n",
              "    .dataframe tbody tr th {\n",
              "        vertical-align: top;\n",
              "    }\n",
              "\n",
              "    .dataframe thead th {\n",
              "        text-align: right;\n",
              "    }\n",
              "</style>\n",
              "<table border=\"1\" class=\"dataframe\">\n",
              "  <thead>\n",
              "    <tr style=\"text-align: right;\">\n",
              "      <th></th>\n",
              "      <th>0</th>\n",
              "      <th>1</th>\n",
              "      <th>2</th>\n",
              "      <th>3</th>\n",
              "      <th>4</th>\n",
              "      <th>5</th>\n",
              "      <th>6</th>\n",
              "      <th>7</th>\n",
              "      <th>8</th>\n",
              "    </tr>\n",
              "  </thead>\n",
              "  <tbody>\n",
              "    <tr>\n",
              "      <th>0</th>\n",
              "      <td>167762991</td>\n",
              "      <td>2020-06-08 23:16:50</td>\n",
              "      <td>johngod40</td>\n",
              "      <td>Oghenero</td>\n",
              "      <td></td>\n",
              "      <td>RT @Africa4Ai: This is highly recommended. Sma...</td>\n",
              "      <td>3026</td>\n",
              "      <td>3029</td>\n",
              "      <td>False</td>\n",
              "    </tr>\n",
              "    <tr>\n",
              "      <th>1</th>\n",
              "      <td>1019014136590630912</td>\n",
              "      <td>2020-06-08 14:10:35</td>\n",
              "      <td>bimbolawale</td>\n",
              "      <td>Abimbola Olawale Victor</td>\n",
              "      <td>Abeokuta, Nigeria</td>\n",
              "      <td>RT @Africa4Ai: This is highly recommended. Sma...</td>\n",
              "      <td>360</td>\n",
              "      <td>1023</td>\n",
              "      <td>False</td>\n",
              "    </tr>\n",
              "    <tr>\n",
              "      <th>2</th>\n",
              "      <td>1192076733643669504</td>\n",
              "      <td>2020-06-08 13:56:05</td>\n",
              "      <td>Africa4Ai</td>\n",
              "      <td>Africa4AI</td>\n",
              "      <td>Africa</td>\n",
              "      <td>This is highly recommended. Smart tools for mo...</td>\n",
              "      <td>143</td>\n",
              "      <td>216</td>\n",
              "      <td>True</td>\n",
              "    </tr>\n",
              "  </tbody>\n",
              "</table>\n",
              "</div>"
            ],
            "text/plain": [
              "                     0                   1            2  \\\n",
              "0            167762991 2020-06-08 23:16:50    johngod40   \n",
              "1  1019014136590630912 2020-06-08 14:10:35  bimbolawale   \n",
              "2  1192076733643669504 2020-06-08 13:56:05    Africa4Ai   \n",
              "\n",
              "                         3                  4  \\\n",
              "0                 Oghenero                      \n",
              "1  Abimbola Olawale Victor  Abeokuta, Nigeria   \n",
              "2                Africa4AI             Africa   \n",
              "\n",
              "                                                   5     6     7      8  \n",
              "0  RT @Africa4Ai: This is highly recommended. Sma...  3026  3029  False  \n",
              "1  RT @Africa4Ai: This is highly recommended. Sma...   360  1023  False  \n",
              "2  This is highly recommended. Smart tools for mo...   143   216   True  "
            ]
          },
          "metadata": {
            "tags": []
          },
          "execution_count": 11
        }
      ]
    },
    {
      "cell_type": "code",
      "metadata": {
        "id": "Sx5mrAeBdjAO",
        "colab_type": "code",
        "colab": {}
      },
      "source": [
        "#Twitter error response: status code = 429"
      ],
      "execution_count": null,
      "outputs": []
    },
    {
      "cell_type": "code",
      "metadata": {
        "id": "-AkB5sj5djA-",
        "colab_type": "code",
        "colab": {}
      },
      "source": [
        "results_data.rename(columns={0:'Id', 1:'created_at', 2:'screen_name', 3:'name', 4:'location', 5:'Text' \n",
        "                            ,6:'Followers',7:'Followed',8:'Truncated'}, inplace=True)"
      ],
      "execution_count": null,
      "outputs": []
    },
    {
      "cell_type": "code",
      "metadata": {
        "id": "7DPszOXDdjBj",
        "colab_type": "code",
        "colab": {},
        "outputId": "8c2c92b1-816a-4ec0-b7c1-252f955d33d4"
      },
      "source": [
        "results_data[results_data['screen_name']=='thegirlshewasnt']"
      ],
      "execution_count": null,
      "outputs": [
        {
          "output_type": "execute_result",
          "data": {
            "text/html": [
              "<div>\n",
              "<style scoped>\n",
              "    .dataframe tbody tr th:only-of-type {\n",
              "        vertical-align: middle;\n",
              "    }\n",
              "\n",
              "    .dataframe tbody tr th {\n",
              "        vertical-align: top;\n",
              "    }\n",
              "\n",
              "    .dataframe thead th {\n",
              "        text-align: right;\n",
              "    }\n",
              "</style>\n",
              "<table border=\"1\" class=\"dataframe\">\n",
              "  <thead>\n",
              "    <tr style=\"text-align: right;\">\n",
              "      <th></th>\n",
              "      <th>Id</th>\n",
              "      <th>created_at</th>\n",
              "      <th>screen_name</th>\n",
              "      <th>name</th>\n",
              "      <th>location</th>\n",
              "      <th>Text</th>\n",
              "      <th>Followers</th>\n",
              "      <th>Followed</th>\n",
              "      <th>Truncated</th>\n",
              "    </tr>\n",
              "  </thead>\n",
              "  <tbody>\n",
              "  </tbody>\n",
              "</table>\n",
              "</div>"
            ],
            "text/plain": [
              "Empty DataFrame\n",
              "Columns: [Id, created_at, screen_name, name, location, Text, Followers, Followed, Truncated]\n",
              "Index: []"
            ]
          },
          "metadata": {
            "tags": []
          },
          "execution_count": 14
        }
      ]
    },
    {
      "cell_type": "code",
      "metadata": {
        "id": "gcli_OjCdjCQ",
        "colab_type": "code",
        "colab": {}
      },
      "source": [
        "#results_data.to_csv('data_tweets/tweets_data_19052020_v2.csv', sep ='~',index=False)"
      ],
      "execution_count": null,
      "outputs": []
    },
    {
      "cell_type": "code",
      "metadata": {
        "id": "Jjak0qaodjC3",
        "colab_type": "code",
        "colab": {}
      },
      "source": [
        "from pandas import ExcelWriter\n",
        "writer = ExcelWriter('data_tweets/tweets_data_19052020_v2.xlsx')\n",
        "results_data.to_excel(writer,'Sheet1')\n",
        "writer.save()"
      ],
      "execution_count": null,
      "outputs": []
    },
    {
      "cell_type": "markdown",
      "metadata": {
        "id": "0-spl0hidjDi",
        "colab_type": "text"
      },
      "source": [
        "### Non-API Based Tweet Search"
      ]
    },
    {
      "cell_type": "code",
      "metadata": {
        "id": "Q-_7LxI5djDo",
        "colab_type": "code",
        "colab": {}
      },
      "source": [
        "import GetOldTweets3 as got"
      ],
      "execution_count": null,
      "outputs": []
    },
    {
      "cell_type": "code",
      "metadata": {
        "id": "Shg3UWMQdjEW",
        "colab_type": "code",
        "colab": {}
      },
      "source": [
        "search_words = ['Africa4Ai']"
      ],
      "execution_count": null,
      "outputs": []
    },
    {
      "cell_type": "code",
      "metadata": {
        "id": "eGKVPDyMdjEz",
        "colab_type": "code",
        "colab": {}
      },
      "source": [
        "def download_tweets(search_word):\n",
        "    print(f\"Downloading for {search_word}\")\n",
        "    tweetCriteria = got.manager.TweetCriteria().setQuerySearch(search_word)\\\n",
        "                                               .setSince(\"2020-01-01\")\\\n",
        "                                               .setUntil(\"2020-06-11\")\n",
        "    tweets = got.manager.TweetManager.getTweets(tweetCriteria)\n",
        "    df = pd.DataFrame([tweet.__dict__ for tweet in tweets])\n",
        "    print(df.shape)\n",
        "    df.to_csv(\"data_tweets/Africa4AI.csv\", index=False)"
      ],
      "execution_count": null,
      "outputs": []
    },
    {
      "cell_type": "code",
      "metadata": {
        "id": "dTDkjODgdjFW",
        "colab_type": "code",
        "colab": {},
        "outputId": "dd149eb4-a31d-49cc-844c-c627de8455c9"
      },
      "source": [
        "for search_word in search_words:\n",
        "    download_tweets(search_word)"
      ],
      "execution_count": null,
      "outputs": [
        {
          "output_type": "stream",
          "text": [
            "Downloading for Africa4Ai\n",
            "(63, 15)\n"
          ],
          "name": "stdout"
        }
      ]
    },
    {
      "cell_type": "code",
      "metadata": {
        "id": "GjZ_SAhqdjGB",
        "colab_type": "code",
        "colab": {},
        "outputId": "53d22abe-4f77-421c-aa48-b1c44e869895"
      },
      "source": [
        "Africa4Ai = pd.read_csv(\"data_tweets/Africa4AI.csv\")\n",
        "Africa4Ai.head()"
      ],
      "execution_count": null,
      "outputs": [
        {
          "output_type": "execute_result",
          "data": {
            "text/html": [
              "<div>\n",
              "<style scoped>\n",
              "    .dataframe tbody tr th:only-of-type {\n",
              "        vertical-align: middle;\n",
              "    }\n",
              "\n",
              "    .dataframe tbody tr th {\n",
              "        vertical-align: top;\n",
              "    }\n",
              "\n",
              "    .dataframe thead th {\n",
              "        text-align: right;\n",
              "    }\n",
              "</style>\n",
              "<table border=\"1\" class=\"dataframe\">\n",
              "  <thead>\n",
              "    <tr style=\"text-align: right;\">\n",
              "      <th></th>\n",
              "      <th>username</th>\n",
              "      <th>to</th>\n",
              "      <th>text</th>\n",
              "      <th>retweets</th>\n",
              "      <th>favorites</th>\n",
              "      <th>replies</th>\n",
              "      <th>id</th>\n",
              "      <th>permalink</th>\n",
              "      <th>author_id</th>\n",
              "      <th>date</th>\n",
              "      <th>formatted_date</th>\n",
              "      <th>hashtags</th>\n",
              "      <th>mentions</th>\n",
              "      <th>geo</th>\n",
              "      <th>urls</th>\n",
              "    </tr>\n",
              "  </thead>\n",
              "  <tbody>\n",
              "    <tr>\n",
              "      <th>0</th>\n",
              "      <td>Africa4Ai</td>\n",
              "      <td>NaN</td>\n",
              "      <td>This is highly recommended. Smart tools for modern researchers - click on the link below https://lnkd.in/e7eqk6M #research #researchers #academia #PublicationDay</td>\n",
              "      <td>2</td>\n",
              "      <td>3</td>\n",
              "      <td>0</td>\n",
              "      <td>1269991593811066881</td>\n",
              "      <td>https://twitter.com/Africa4Ai/status/1269991593811066881</td>\n",
              "      <td>1192076733643669504</td>\n",
              "      <td>2020-06-08 13:56:05+00:00</td>\n",
              "      <td>Mon Jun 08 13:56:05 +0000 2020</td>\n",
              "      <td>#research #researchers #academia #PublicationDay</td>\n",
              "      <td>NaN</td>\n",
              "      <td>NaN</td>\n",
              "      <td>https://lnkd.in/e7eqk6M</td>\n",
              "    </tr>\n",
              "    <tr>\n",
              "      <th>1</th>\n",
              "      <td>KDDerek1</td>\n",
              "      <td>NaN</td>\n",
              "      <td>@GhanaTechLab John McCarthy, who coined the term in 1956, defines it as \"the science and engineering of making intelligent machines.\" #africa4ai</td>\n",
              "      <td>0</td>\n",
              "      <td>0</td>\n",
              "      <td>0</td>\n",
              "      <td>1265983328001437697</td>\n",
              "      <td>https://twitter.com/KDDerek1/status/1265983328001437697</td>\n",
              "      <td>1001743558993481728</td>\n",
              "      <td>2020-05-28 12:28:40+00:00</td>\n",
              "      <td>Thu May 28 12:28:40 +0000 2020</td>\n",
              "      <td>#africa4ai</td>\n",
              "      <td>@GhanaTechLab</td>\n",
              "      <td>NaN</td>\n",
              "      <td>NaN</td>\n",
              "    </tr>\n",
              "    <tr>\n",
              "      <th>2</th>\n",
              "      <td>Africa4Ai</td>\n",
              "      <td>NaN</td>\n",
              "      <td>Learn how to do location intelligent information retrieval here. https://lnkd.in/dKrunvD https://lnkd.in/dSrGhDk</td>\n",
              "      <td>1</td>\n",
              "      <td>8</td>\n",
              "      <td>0</td>\n",
              "      <td>1262257043571908608</td>\n",
              "      <td>https://twitter.com/Africa4Ai/status/1262257043571908608</td>\n",
              "      <td>1192076733643669504</td>\n",
              "      <td>2020-05-18 05:41:45+00:00</td>\n",
              "      <td>Mon May 18 05:41:45 +0000 2020</td>\n",
              "      <td>NaN</td>\n",
              "      <td>NaN</td>\n",
              "      <td>NaN</td>\n",
              "      <td>https://lnkd.in/dKrunvD,https://lnkd.in/dSrGhDk</td>\n",
              "    </tr>\n",
              "    <tr>\n",
              "      <th>3</th>\n",
              "      <td>PluckyPrecious</td>\n",
              "      <td>NigeriaAi</td>\n",
              "      <td>Nice</td>\n",
              "      <td>0</td>\n",
              "      <td>1</td>\n",
              "      <td>0</td>\n",
              "      <td>1251443693413961729</td>\n",
              "      <td>https://twitter.com/PluckyPrecious/status/1251443693413961729</td>\n",
              "      <td>2371072719</td>\n",
              "      <td>2020-04-18 09:33:21+00:00</td>\n",
              "      <td>Sat Apr 18 09:33:21 +0000 2020</td>\n",
              "      <td>NaN</td>\n",
              "      <td>NaN</td>\n",
              "      <td>NaN</td>\n",
              "      <td>NaN</td>\n",
              "    </tr>\n",
              "    <tr>\n",
              "      <th>4</th>\n",
              "      <td>temiafeye</td>\n",
              "      <td>NigeriaAi</td>\n",
              "      <td>Excited to seem an esteemed colleague here.. looking forward to his talk. Please join in as much as you can..</td>\n",
              "      <td>2</td>\n",
              "      <td>3</td>\n",
              "      <td>0</td>\n",
              "      <td>1251424693149667328</td>\n",
              "      <td>https://twitter.com/temiafeye/status/1251424693149667328</td>\n",
              "      <td>2243142293</td>\n",
              "      <td>2020-04-18 08:17:51+00:00</td>\n",
              "      <td>Sat Apr 18 08:17:51 +0000 2020</td>\n",
              "      <td>NaN</td>\n",
              "      <td>NaN</td>\n",
              "      <td>NaN</td>\n",
              "      <td>NaN</td>\n",
              "    </tr>\n",
              "  </tbody>\n",
              "</table>\n",
              "</div>"
            ],
            "text/plain": [
              "         username         to  \\\n",
              "0  Africa4Ai       NaN         \n",
              "1  KDDerek1        NaN         \n",
              "2  Africa4Ai       NaN         \n",
              "3  PluckyPrecious  NigeriaAi   \n",
              "4  temiafeye       NigeriaAi   \n",
              "\n",
              "                                                                                                                                                                text  \\\n",
              "0  This is highly recommended. Smart tools for modern researchers - click on the link below https://lnkd.in/e7eqk6M #research #researchers #academia #PublicationDay   \n",
              "1  @GhanaTechLab John McCarthy, who coined the term in 1956, defines it as \"the science and engineering of making intelligent machines.\" #africa4ai                    \n",
              "2  Learn how to do location intelligent information retrieval here. https://lnkd.in/dKrunvD https://lnkd.in/dSrGhDk                                                    \n",
              "3  Nice                                                                                                                                                                \n",
              "4  Excited to seem an esteemed colleague here.. looking forward to his talk. Please join in as much as you can..                                                       \n",
              "\n",
              "   retweets  favorites  replies                   id  \\\n",
              "0  2         3          0        1269991593811066881   \n",
              "1  0         0          0        1265983328001437697   \n",
              "2  1         8          0        1262257043571908608   \n",
              "3  0         1          0        1251443693413961729   \n",
              "4  2         3          0        1251424693149667328   \n",
              "\n",
              "                                                       permalink  \\\n",
              "0  https://twitter.com/Africa4Ai/status/1269991593811066881        \n",
              "1  https://twitter.com/KDDerek1/status/1265983328001437697         \n",
              "2  https://twitter.com/Africa4Ai/status/1262257043571908608        \n",
              "3  https://twitter.com/PluckyPrecious/status/1251443693413961729   \n",
              "4  https://twitter.com/temiafeye/status/1251424693149667328        \n",
              "\n",
              "             author_id                       date  \\\n",
              "0  1192076733643669504  2020-06-08 13:56:05+00:00   \n",
              "1  1001743558993481728  2020-05-28 12:28:40+00:00   \n",
              "2  1192076733643669504  2020-05-18 05:41:45+00:00   \n",
              "3  2371072719           2020-04-18 09:33:21+00:00   \n",
              "4  2243142293           2020-04-18 08:17:51+00:00   \n",
              "\n",
              "                   formatted_date  \\\n",
              "0  Mon Jun 08 13:56:05 +0000 2020   \n",
              "1  Thu May 28 12:28:40 +0000 2020   \n",
              "2  Mon May 18 05:41:45 +0000 2020   \n",
              "3  Sat Apr 18 09:33:21 +0000 2020   \n",
              "4  Sat Apr 18 08:17:51 +0000 2020   \n",
              "\n",
              "                                           hashtags       mentions  geo  \\\n",
              "0  #research #researchers #academia #PublicationDay  NaN           NaN    \n",
              "1  #africa4ai                                        @GhanaTechLab NaN    \n",
              "2  NaN                                               NaN           NaN    \n",
              "3  NaN                                               NaN           NaN    \n",
              "4  NaN                                               NaN           NaN    \n",
              "\n",
              "                                              urls  \n",
              "0  https://lnkd.in/e7eqk6M                          \n",
              "1  NaN                                              \n",
              "2  https://lnkd.in/dKrunvD,https://lnkd.in/dSrGhDk  \n",
              "3  NaN                                              \n",
              "4  NaN                                              "
            ]
          },
          "metadata": {
            "tags": []
          },
          "execution_count": 39
        }
      ]
    },
    {
      "cell_type": "markdown",
      "metadata": {
        "id": "kaUWtEg2djGt",
        "colab_type": "text"
      },
      "source": [
        "<img src=\"images/Section2_Processing_Texts.png\">"
      ]
    },
    {
      "cell_type": "markdown",
      "metadata": {
        "id": "Bk-q42HZdjG4",
        "colab_type": "text"
      },
      "source": [
        "## 1 Text processing"
      ]
    },
    {
      "cell_type": "code",
      "metadata": {
        "id": "7mpv2ooLdjG9",
        "colab_type": "code",
        "colab": {}
      },
      "source": [
        "# Loading the dataset\n",
        "results_data=pd.read_excel(\"data_tweets/Cyril_Ramaphosa/Cyril_Ramaphos_March_to_May.xlsx\", sheet_name = \"CyrilRamaphosa_March_to_May\")\n",
        "print(\"Dataset size\", len(results_data))"
      ],
      "execution_count": null,
      "outputs": []
    },
    {
      "cell_type": "code",
      "metadata": {
        "id": "P__1nKa6djHj",
        "colab_type": "code",
        "colab": {}
      },
      "source": [
        "results_data.head(3)"
      ],
      "execution_count": null,
      "outputs": []
    },
    {
      "cell_type": "code",
      "metadata": {
        "id": "-K9C3knZdjIG",
        "colab_type": "code",
        "colab": {}
      },
      "source": [
        "# Make text to be string\n",
        "results_data['tweets']=results_data['Text_Nocoma'].astype(str)"
      ],
      "execution_count": null,
      "outputs": []
    },
    {
      "cell_type": "markdown",
      "metadata": {
        "id": "5Y_Mz6k2djIj",
        "colab_type": "text"
      },
      "source": [
        "### 1.0 Make all texts to be lower case"
      ]
    },
    {
      "cell_type": "code",
      "metadata": {
        "id": "vW-hN1HodjIn",
        "colab_type": "code",
        "colab": {}
      },
      "source": [
        "results_data['tweets'] = results_data['tweets'].str.lower()"
      ],
      "execution_count": null,
      "outputs": []
    },
    {
      "cell_type": "markdown",
      "metadata": {
        "id": "sMi5RH1AdjJE",
        "colab_type": "text"
      },
      "source": [
        "### 1.1  Removing  Hashtag"
      ]
    },
    {
      "cell_type": "code",
      "metadata": {
        "id": "GY64ilXXdjJJ",
        "colab_type": "code",
        "colab": {}
      },
      "source": [
        "results_data[['username','tweets']][results_data['username'] == 'Katleho83973096']"
      ],
      "execution_count": null,
      "outputs": []
    },
    {
      "cell_type": "code",
      "metadata": {
        "id": "lbMWfj_KdjKQ",
        "colab_type": "code",
        "colab": {}
      },
      "source": [
        "import re # regex - regular epression"
      ],
      "execution_count": null,
      "outputs": []
    },
    {
      "cell_type": "code",
      "metadata": {
        "id": "aO89V9SndjKp",
        "colab_type": "code",
        "colab": {}
      },
      "source": [
        "def Remove_Hashtag(text, pattern_regex):\n",
        "    r = re.findall(pattern_regex, text)\n",
        "    for i in r:\n",
        "        text = re.sub(i, '', text)\n",
        "    return text "
      ],
      "execution_count": null,
      "outputs": []
    },
    {
      "cell_type": "code",
      "metadata": {
        "id": "sxWXSbjgdjK8",
        "colab_type": "code",
        "colab": {}
      },
      "source": [
        "results_data['Remove_Hashtag'] = np.vectorize(Remove_Hashtag)(results_data['tweets'], \"#[\\w]*\")"
      ],
      "execution_count": null,
      "outputs": []
    },
    {
      "cell_type": "code",
      "metadata": {
        "id": "4KrZGY25djLT",
        "colab_type": "code",
        "colab": {}
      },
      "source": [
        "results_data[['Remove_Hashtag','tweets']][results_data['username'] == 'Katleho83973096']"
      ],
      "execution_count": null,
      "outputs": []
    },
    {
      "cell_type": "markdown",
      "metadata": {
        "id": "_w-XV9nTdjLs",
        "colab_type": "text"
      },
      "source": [
        "### 1.2  http links removal"
      ]
    },
    {
      "cell_type": "code",
      "metadata": {
        "id": "LDTR3sR2djL8",
        "colab_type": "code",
        "colab": {}
      },
      "source": [
        "results_data[['Remove_Hashtag','tweets']][results_data['username'] == 'Ndozizi']"
      ],
      "execution_count": null,
      "outputs": []
    },
    {
      "cell_type": "code",
      "metadata": {
        "id": "Xkm5-BNfdjMW",
        "colab_type": "code",
        "colab": {}
      },
      "source": [
        "no_link_tweets = []\n",
        "for index, row in results_data.iterrows():\n",
        "    link_removed_text = [word for word in row.Remove_Hashtag.split() if 'http' not in word]\n",
        "    no_link_tweets.append(' '.join(link_removed_text)) "
      ],
      "execution_count": null,
      "outputs": []
    },
    {
      "cell_type": "code",
      "metadata": {
        "id": "TCrk60ngdjM5",
        "colab_type": "code",
        "colab": {}
      },
      "source": [
        "results_data['Tweets_No_Links'] = no_link_tweets"
      ],
      "execution_count": null,
      "outputs": []
    },
    {
      "cell_type": "code",
      "metadata": {
        "id": "-YcamC4CdjNO",
        "colab_type": "code",
        "colab": {}
      },
      "source": [
        "results_data[['Remove_Hashtag','Tweets_No_Links']][results_data['username'] == 'Ndozizi']"
      ],
      "execution_count": null,
      "outputs": []
    },
    {
      "cell_type": "markdown",
      "metadata": {
        "id": "TM0kZcWrdjNy",
        "colab_type": "text"
      },
      "source": [
        "### 1.3   Username Removal"
      ]
    },
    {
      "cell_type": "code",
      "metadata": {
        "scrolled": true,
        "id": "7Bu7_MhtdjOF",
        "colab_type": "code",
        "colab": {}
      },
      "source": [
        "results_data[['Remove_Hashtag','Tweets_No_Links']][results_data['username'] == 'pu_722']"
      ],
      "execution_count": null,
      "outputs": []
    },
    {
      "cell_type": "code",
      "metadata": {
        "id": "nfXkG82xdjOe",
        "colab_type": "code",
        "colab": {}
      },
      "source": [
        "def remove_atname(text, pattern_regex):\n",
        "    r = re.findall(pattern_regex, text)\n",
        "    for i in r:\n",
        "        text = re.sub(i, '', text)\n",
        "    return text "
      ],
      "execution_count": null,
      "outputs": []
    },
    {
      "cell_type": "code",
      "metadata": {
        "id": "bzoj3VP6djPD",
        "colab_type": "code",
        "colab": {}
      },
      "source": [
        "results_data['AtName_Removed'] = np.vectorize(remove_atname)(results_data['Tweets_No_Links'], \"@[\\w]*\")"
      ],
      "execution_count": null,
      "outputs": []
    },
    {
      "cell_type": "code",
      "metadata": {
        "id": "HMJR_Y7ndjPW",
        "colab_type": "code",
        "colab": {}
      },
      "source": [
        "results_data[['Tweets_No_Links','AtName_Removed']][results_data['username'] == 'pu_722']"
      ],
      "execution_count": null,
      "outputs": []
    },
    {
      "cell_type": "markdown",
      "metadata": {
        "id": "nmlo_xljdjP8",
        "colab_type": "text"
      },
      "source": [
        "### 1.4    Blank tweets removal"
      ]
    },
    {
      "cell_type": "code",
      "metadata": {
        "id": "1gKYBtVjdjQI",
        "colab_type": "code",
        "colab": {}
      },
      "source": [
        "results_data[['Tweets_No_Links','AtName_Removed']][results_data['username'] == 'Sobza_iHlubi']"
      ],
      "execution_count": null,
      "outputs": []
    },
    {
      "cell_type": "code",
      "metadata": {
        "id": "mnsZ8OopdjQb",
        "colab_type": "code",
        "colab": {}
      },
      "source": [
        "print('Length of record', len(results_data))"
      ],
      "execution_count": null,
      "outputs": []
    },
    {
      "cell_type": "code",
      "metadata": {
        "id": "1GvBaO1jdjQ6",
        "colab_type": "code",
        "colab": {}
      },
      "source": [
        "results_data = results_data[results_data['AtName_Removed']!='']\n",
        "print('Length of tweets', len(results_data))"
      ],
      "execution_count": null,
      "outputs": []
    },
    {
      "cell_type": "code",
      "metadata": {
        "id": "Id9blmbCdjSq",
        "colab_type": "code",
        "colab": {}
      },
      "source": [
        "results_data[['Tweets_No_Links','AtName_Removed']][results_data['username'] == 'MakaWonga']"
      ],
      "execution_count": null,
      "outputs": []
    },
    {
      "cell_type": "code",
      "metadata": {
        "id": "dVIcixuidjTF",
        "colab_type": "code",
        "colab": {}
      },
      "source": [
        "#Nan is NULL\n",
        "results_data = results_data[results_data['AtName_Removed']!='nan']\n",
        "print('Length of tweets', len(results_data))"
      ],
      "execution_count": null,
      "outputs": []
    },
    {
      "cell_type": "code",
      "metadata": {
        "id": "VSo7Ovw1djTk",
        "colab_type": "code",
        "colab": {}
      },
      "source": [
        "results_data[['Tweets_No_Links','AtName_Removed']][results_data['username'] == 'Sobza_iHlubi']"
      ],
      "execution_count": null,
      "outputs": []
    },
    {
      "cell_type": "code",
      "metadata": {
        "id": "_MZ-5eXedjUW",
        "colab_type": "code",
        "colab": {}
      },
      "source": [
        "results_data[['Tweets_No_Links','AtName_Removed']][results_data['username'] == 'MakaWonga']"
      ],
      "execution_count": null,
      "outputs": []
    },
    {
      "cell_type": "markdown",
      "metadata": {
        "id": "vfc4t629djU2",
        "colab_type": "text"
      },
      "source": [
        "### 1.5   Duplicate rows removal"
      ]
    },
    {
      "cell_type": "code",
      "metadata": {
        "id": "KrplrRg9djU6",
        "colab_type": "code",
        "colab": {}
      },
      "source": [
        "results_data[['Tweets_No_Links','AtName_Removed']][results_data['username'] == 'Abelanang'].head()"
      ],
      "execution_count": null,
      "outputs": []
    },
    {
      "cell_type": "code",
      "metadata": {
        "id": "pVZMkJ_xdjVu",
        "colab_type": "code",
        "colab": {}
      },
      "source": [
        "print('Length of tweets', len(results_data))"
      ],
      "execution_count": null,
      "outputs": []
    },
    {
      "cell_type": "code",
      "metadata": {
        "id": "f3GcdUVvdjWB",
        "colab_type": "code",
        "colab": {}
      },
      "source": [
        "results_data.drop_duplicates(subset=['AtName_Removed'], keep=False)\n",
        "print('Length of tweets', len(results_data))"
      ],
      "execution_count": null,
      "outputs": []
    },
    {
      "cell_type": "code",
      "metadata": {
        "id": "VFF_VZyedjWd",
        "colab_type": "code",
        "colab": {}
      },
      "source": [
        "results_data[['Tweets_No_Links','AtName_Removed']][results_data['username'] == 'Abelanang'].head()"
      ],
      "execution_count": null,
      "outputs": []
    },
    {
      "cell_type": "code",
      "metadata": {
        "id": "FSlNiIz5djXG",
        "colab_type": "code",
        "colab": {}
      },
      "source": [
        "results_data[results_data['AtName_Removed'].duplicated() == False]\n",
        "print('Length of tweets', len(results_data))"
      ],
      "execution_count": null,
      "outputs": []
    },
    {
      "cell_type": "markdown",
      "metadata": {
        "id": "yg6LEqczdjXs",
        "colab_type": "text"
      },
      "source": [
        "### 1.6   Non-text removal"
      ]
    },
    {
      "cell_type": "code",
      "metadata": {
        "id": "B-tuQWLbdjXw",
        "colab_type": "code",
        "colab": {}
      },
      "source": [
        "results_data[['Tweets_No_Links','AtName_Removed']][results_data['username'] == 'JanShowcraft']"
      ],
      "execution_count": null,
      "outputs": []
    },
    {
      "cell_type": "code",
      "metadata": {
        "id": "Utsno6DHdjYH",
        "colab_type": "code",
        "colab": {}
      },
      "source": [
        "results_data['Remove_NonText'] = results_data['AtName_Removed'].str.replace(\"[^a-zA-Z]\", \" \")"
      ],
      "execution_count": null,
      "outputs": []
    },
    {
      "cell_type": "code",
      "metadata": {
        "id": "SEpdQfSDdjYU",
        "colab_type": "code",
        "colab": {}
      },
      "source": [
        "results_data[['username','AtName_Removed','Remove_NonText']][results_data['username'] == 'JanShowcraft'].head(3)"
      ],
      "execution_count": null,
      "outputs": []
    },
    {
      "cell_type": "markdown",
      "metadata": {
        "id": "LnfQ_gWSdjYj",
        "colab_type": "text"
      },
      "source": [
        "### 1.7  Stop Words removal"
      ]
    },
    {
      "cell_type": "code",
      "metadata": {
        "id": "WdLL6GYNdjYl",
        "colab_type": "code",
        "colab": {}
      },
      "source": [
        "import nltk \n",
        "from nltk.corpus import stopwords\n",
        "stop = stopwords.words('english')"
      ],
      "execution_count": null,
      "outputs": []
    },
    {
      "cell_type": "code",
      "metadata": {
        "id": "e8bNqdkPdjYy",
        "colab_type": "code",
        "colab": {}
      },
      "source": [
        "results_data['Remove_StopWords'] = results_data['Remove_NonText'].apply(lambda x: ' '.join([word for word in x.split() if word not in (stop)]))"
      ],
      "execution_count": null,
      "outputs": []
    },
    {
      "cell_type": "code",
      "metadata": {
        "id": "ugnAO-e8djY_",
        "colab_type": "code",
        "colab": {}
      },
      "source": [
        "#results_data[['username','Remove_NonText','Remove_StopWords']][results_data['username'] == 'keijiluvbot'].head(1)"
      ],
      "execution_count": null,
      "outputs": []
    },
    {
      "cell_type": "code",
      "metadata": {
        "id": "_4H9ehqbdjZM",
        "colab_type": "code",
        "colab": {}
      },
      "source": [
        "results_data[['username','Remove_NonText','Remove_StopWords']][10:15]"
      ],
      "execution_count": null,
      "outputs": []
    },
    {
      "cell_type": "markdown",
      "metadata": {
        "id": "LN0U-BUJdjZb",
        "colab_type": "text"
      },
      "source": [
        "### 1.8  Tokenization\n",
        "Convert a sentence into list of words"
      ]
    },
    {
      "cell_type": "code",
      "metadata": {
        "id": "CkGDFzG3djZe",
        "colab_type": "code",
        "colab": {}
      },
      "source": [
        "tweets_tokenised = results_data['Remove_StopWords'].apply(lambda x: x.split())\n",
        "tweets_tokenised[10:20]"
      ],
      "execution_count": null,
      "outputs": []
    },
    {
      "cell_type": "markdown",
      "metadata": {
        "id": "EGtSpsw_djZq",
        "colab_type": "text"
      },
      "source": [
        "### 1.9  stemming"
      ]
    },
    {
      "cell_type": "code",
      "metadata": {
        "id": "eWgIwFpOdjZs",
        "colab_type": "code",
        "colab": {}
      },
      "source": [
        "#import nltk\n",
        "#porter_stemmer = nltk.PorterStemmer()\n",
        "#tweets_tokenised = tweets_tokenised.apply(lambda x: [porter_stemmer.stem(i) for i in x])\n",
        "#tweets_tokenised[10:20]"
      ],
      "execution_count": null,
      "outputs": []
    },
    {
      "cell_type": "markdown",
      "metadata": {
        "id": "oyk9ArKBdjZ4",
        "colab_type": "text"
      },
      "source": [
        "### 1.10 Lammetization \n",
        "Actual words without ed, ing"
      ]
    },
    {
      "cell_type": "code",
      "metadata": {
        "id": "fx235VYydjZ7",
        "colab_type": "code",
        "colab": {}
      },
      "source": [
        "from nltk.stem import WordNetLemmatizer\n",
        "import nltk\n",
        "nltk.download('wordnet')"
      ],
      "execution_count": null,
      "outputs": []
    },
    {
      "cell_type": "code",
      "metadata": {
        "id": "8HG39bI9djaH",
        "colab_type": "code",
        "colab": {}
      },
      "source": [
        "word_lemmatizer = WordNetLemmatizer()\n",
        "tweets_tokenised = tweets_tokenised.apply(lambda x: [word_lemmatizer.lemmatize(i) for i in x])\n",
        "tweets_tokenised[10:20]"
      ],
      "execution_count": null,
      "outputs": []
    },
    {
      "cell_type": "markdown",
      "metadata": {
        "id": "XKUpVxxfdjaX",
        "colab_type": "text"
      },
      "source": [
        "### 1.11 Tweets_tokenised "
      ]
    },
    {
      "cell_type": "code",
      "metadata": {
        "id": "NEcHBgtjdjaZ",
        "colab_type": "code",
        "colab": {}
      },
      "source": [
        "for i, tokens in enumerate(tweets_tokenised):\n",
        "    tweets_tokenised[i] = ' '.join(tokens)\n",
        "\n",
        "results_data['tweets_tokenised_clean'] = tweets_tokenised\n",
        "results_data[['Remove_StopWords','tweets_tokenised_clean']][10:15]"
      ],
      "execution_count": null,
      "outputs": []
    },
    {
      "cell_type": "code",
      "metadata": {
        "id": "WIxvoKFrdjan",
        "colab_type": "code",
        "colab": {}
      },
      "source": [
        "results_data[['tweets_tokenised_clean']].head()"
      ],
      "execution_count": null,
      "outputs": []
    },
    {
      "cell_type": "markdown",
      "metadata": {
        "id": "oEgb14Q3dja6",
        "colab_type": "text"
      },
      "source": [
        "### Removing Missing Data Data"
      ]
    },
    {
      "cell_type": "code",
      "metadata": {
        "id": "mMJIDPakdja9",
        "colab_type": "code",
        "colab": {}
      },
      "source": [
        "print('Length of tweets', len(results_data))"
      ],
      "execution_count": null,
      "outputs": []
    },
    {
      "cell_type": "code",
      "metadata": {
        "id": "UduFysjAdjbf",
        "colab_type": "code",
        "colab": {}
      },
      "source": [
        "results_data = results_data[results_data['tweets_tokenised_clean']!='']\n",
        "print('Length of tweets', len(results_data))"
      ],
      "execution_count": null,
      "outputs": []
    },
    {
      "cell_type": "code",
      "metadata": {
        "id": "y7KMCUnFdjbv",
        "colab_type": "code",
        "colab": {}
      },
      "source": [
        "results_data['tweets_tokenised_clean'] = results_data['tweets_tokenised_clean'].astype(str)"
      ],
      "execution_count": null,
      "outputs": []
    },
    {
      "cell_type": "markdown",
      "metadata": {
        "id": "UVNd4es8djb7",
        "colab_type": "text"
      },
      "source": [
        "<img src=\"images/Section3_Indexing_Text_Data.png\">"
      ]
    },
    {
      "cell_type": "markdown",
      "metadata": {
        "id": "tJYj-cP1djb-",
        "colab_type": "text"
      },
      "source": [
        "### <a id='3B'>B. Pre-processing 'Key Phrases'</a> "
      ]
    },
    {
      "cell_type": "code",
      "metadata": {
        "id": "W2vm5gAEdjcC",
        "colab_type": "code",
        "colab": {}
      },
      "source": [
        "# NLP Activites\n",
        "import nltk\n",
        "from nltk.corpus import stopwords\n",
        "from nltk.tokenize import sent_tokenize, word_tokenize\n",
        "from nltk.sentiment.vader import SentimentIntensityAnalyzer\n",
        "from nltk.stem import WordNetLemmatizer\n",
        "from nltk.stem.porter import *\n",
        "from nltk.classify import NaiveBayesClassifier\n",
        "from wordcloud import WordCloud\n"
      ],
      "execution_count": null,
      "outputs": []
    },
    {
      "cell_type": "markdown",
      "metadata": {
        "id": "2qg4zm9AdjcN",
        "colab_type": "text"
      },
      "source": [
        "#### <a id='3Ba'>a. Helper class, will help in preprocessing phrase terms</a>"
      ]
    },
    {
      "cell_type": "code",
      "metadata": {
        "id": "mJxPtlKsdjcQ",
        "colab_type": "code",
        "colab": {}
      },
      "source": [
        "class PhraseExtractHelper(object):\n",
        "    def __init__(self):\n",
        "        self.lemmatizer = nltk.WordNetLemmatizer()\n",
        "        self.stemmer = nltk.stem.porter.PorterStemmer()\n",
        "    \n",
        "    def leaves(self, tree):\n",
        "        \"\"\"Finds NP (nounphrase) leaf nodes of a chunk tree.\"\"\"\n",
        "        for subtree in tree.subtrees(filter = lambda t: t.label()=='NP'):\n",
        "            yield subtree.leaves()\n",
        "\n",
        "    def normalise(self, word):\n",
        "        \"\"\"Normalises words to lowercase and stems and lemmatizes it.\"\"\"\n",
        "        word = word.lower()\n",
        "        # word = self.stemmer.stem_word(word) # We will loose the exact meaning of the word \n",
        "        word = self.lemmatizer.lemmatize(word)\n",
        "        return word\n",
        "\n",
        "    def acceptable_word(self, word):\n",
        "        \"\"\"Checks conditions for acceptable word: length, stopword. We can increase the length if we want to consider large phrase\"\"\"\n",
        "        accepted = bool(3 <= len(word) <= 40\n",
        "            and word.lower() not in stopwords\n",
        "            and 'https' not in word.lower()\n",
        "            and 'http' not in word.lower()\n",
        "            and '#' not in word.lower()\n",
        "            )\n",
        "        return accepted\n",
        "\n",
        "    def get_terms(self, tree):\n",
        "        for leaf in self.leaves(tree):\n",
        "            term = [ self.normalise(w) for w,t in leaf if self.acceptable_word(w) ]\n",
        "            yield term"
      ],
      "execution_count": null,
      "outputs": []
    },
    {
      "cell_type": "markdown",
      "metadata": {
        "id": "yr-hXd4ydjcg",
        "colab_type": "text"
      },
      "source": [
        "#### <a id='3Bb'>b. Grammatical rule to identify phrases</a>"
      ]
    },
    {
      "cell_type": "code",
      "metadata": {
        "id": "9mPLpmV3djcj",
        "colab_type": "code",
        "colab": {}
      },
      "source": [
        "sentence_re = r'(?:(?:[A-Z])(?:.[A-Z])+.?)|(?:\\w+(?:-\\w+)*)|(?:\\$?\\d+(?:.\\d+)?%?)|(?:...|)(?:[][.,;\"\\'?():-_`])'\n",
        "grammar = r\"\"\"\n",
        "    NBAR:\n",
        "        {<NN.*|JJ>*<NN.*>}  # Nouns and Adjectives, terminated with Nouns\n",
        "        \n",
        "    NP:\n",
        "        {<NBAR>}\n",
        "        {<NBAR><IN><NBAR>}  # Above, connected with in/of/etc...\n",
        "\"\"\"\n",
        "chunker = nltk.RegexpParser(grammar)"
      ],
      "execution_count": null,
      "outputs": []
    },
    {
      "cell_type": "markdown",
      "metadata": {
        "id": "ki0bLux7djcv",
        "colab_type": "text"
      },
      "source": [
        "#### <a id='3Bc'>c. New feature called 'key_phrases', will contain phrases for corresponding tweet</a>"
      ]
    },
    {
      "cell_type": "code",
      "metadata": {
        "id": "FgjMHj14djcy",
        "colab_type": "code",
        "colab": {}
      },
      "source": [
        "key_phrases = []\n",
        "phrase_extract_helper = PhraseExtractHelper()\n",
        "\n",
        "for index, row in results_data.iterrows(): \n",
        "    toks = nltk.regexp_tokenize(row.tweets_tokenised_clean, sentence_re)\n",
        "    postoks = nltk.tag.pos_tag(toks)\n",
        "    tree = chunker.parse(postoks)\n",
        "\n",
        "    terms = phrase_extract_helper.get_terms(tree)\n",
        "    tweet_phrases = []\n",
        "\n",
        "    for term in terms:\n",
        "        if len(term):\n",
        "            tweet_phrases.append(' '.join(term))\n",
        "    \n",
        "    key_phrases.append(tweet_phrases)\n",
        "    \n",
        "key_phrases[:10]"
      ],
      "execution_count": null,
      "outputs": []
    },
    {
      "cell_type": "markdown",
      "metadata": {
        "id": "X9ByTX9ldjc_",
        "colab_type": "text"
      },
      "source": [
        "### other simple way to extract key phrases, by using TextBlob (ConllExtractor)"
      ]
    },
    {
      "cell_type": "code",
      "metadata": {
        "id": "QmIv8-7kdjdB",
        "colab_type": "code",
        "colab": {}
      },
      "source": [
        "from textblob import TextBlob\n",
        "from textblob.sentiments import NaiveBayesAnalyzer\n",
        "from textblob.np_extractors import ConllExtractor"
      ],
      "execution_count": null,
      "outputs": []
    },
    {
      "cell_type": "code",
      "metadata": {
        "id": "fre76pNydjdM",
        "colab_type": "code",
        "colab": {}
      },
      "source": [
        "textblob_key_phrases = []\n",
        "extractor = ConllExtractor()\n",
        "\n",
        "for index, row in results_data.iterrows():\n",
        "    # filerting out all the hashtags\n",
        "    words_without_hash = [word for word in row.tweets_tokenised_clean.split() if '#' not in word.lower()]\n",
        "    \n",
        "    hash_removed_sentence = ' '.join(words_without_hash)\n",
        "    \n",
        "    blob = TextBlob(hash_removed_sentence, np_extractor=extractor)\n",
        "    textblob_key_phrases.append(list(blob.noun_phrases))\n",
        "\n",
        "textblob_key_phrases[:10]"
      ],
      "execution_count": null,
      "outputs": []
    },
    {
      "cell_type": "code",
      "metadata": {
        "id": "hJaTTTO_djdY",
        "colab_type": "code",
        "colab": {}
      },
      "source": [
        "results_data['key_phrases'] = textblob_key_phrases"
      ],
      "execution_count": null,
      "outputs": []
    },
    {
      "cell_type": "code",
      "metadata": {
        "id": "QIg9Jc7Qdjdr",
        "colab_type": "code",
        "colab": {}
      },
      "source": [
        "results_data[['tweets_tokenised_clean','key_phrases']][10:15]"
      ],
      "execution_count": null,
      "outputs": []
    },
    {
      "cell_type": "markdown",
      "metadata": {
        "id": "mlsJ-_lkdjeC",
        "colab_type": "text"
      },
      "source": [
        "### Saving the Data"
      ]
    },
    {
      "cell_type": "code",
      "metadata": {
        "id": "VBT_VriKdjeF",
        "colab_type": "code",
        "colab": {}
      },
      "source": [
        "from pandas import ExcelWriter\n",
        "writer = ExcelWriter('data_tweets/Cyril_Ramaphosa/tweets_processedata_11thJune2020.xlsx')\n",
        "results_data[['username','tweets_tokenised_clean']].to_excel(writer,'Sheet1')\n",
        "writer.save()"
      ],
      "execution_count": null,
      "outputs": []
    },
    {
      "cell_type": "markdown",
      "metadata": {
        "id": "qIAHCjBVdjeV",
        "colab_type": "text"
      },
      "source": [
        "## Story Generation and Visualization"
      ]
    },
    {
      "cell_type": "code",
      "metadata": {
        "id": "oC2cKBOadjeY",
        "colab_type": "code",
        "colab": {}
      },
      "source": [
        "def generate_wordcloud(all_words):\n",
        "    wordcloud = WordCloud(width=800, height=500, random_state=21, max_font_size=100, relative_scaling=0.5, colormap='Dark2').generate(all_words)\n",
        "\n",
        "    plt.figure(figsize=(14, 10))\n",
        "    plt.imshow(wordcloud, interpolation=\"bilinear\")\n",
        "    plt.axis('off')\n",
        "    plt.show()"
      ],
      "execution_count": null,
      "outputs": []
    },
    {
      "cell_type": "code",
      "metadata": {
        "id": "8LNLpungdjev",
        "colab_type": "code",
        "colab": {}
      },
      "source": [
        "#results_data['tweets']=results_data['text'].astype(str)"
      ],
      "execution_count": null,
      "outputs": []
    },
    {
      "cell_type": "code",
      "metadata": {
        "id": "UnVx1TI5dje6",
        "colab_type": "code",
        "colab": {}
      },
      "source": [
        "all_words = ' '.join([text for text in results_data['tweets_tokenised_clean']])\n",
        "generate_wordcloud(all_words)"
      ],
      "execution_count": null,
      "outputs": []
    },
    {
      "cell_type": "markdown",
      "metadata": {
        "id": "WYm7upBidjfI",
        "colab_type": "text"
      },
      "source": [
        "## Frequent Words"
      ]
    },
    {
      "cell_type": "code",
      "metadata": {
        "id": "0pczsCGfdjfK",
        "colab_type": "code",
        "colab": {}
      },
      "source": [
        "freqX = pd.Series(' '.join(results_data['tweets_tokenised_clean']).split()).value_counts()[:100]\n",
        "freqX[:25]"
      ],
      "execution_count": null,
      "outputs": []
    },
    {
      "cell_type": "code",
      "metadata": {
        "id": "61G_tinPdjfU",
        "colab_type": "code",
        "colab": {}
      },
      "source": [
        "rareX = pd.Series(' '.join(results_data['tweets_tokenised_clean']).split()).value_counts()[-100:]\n",
        "rareX[:20]"
      ],
      "execution_count": null,
      "outputs": []
    },
    {
      "cell_type": "markdown",
      "metadata": {
        "id": "2Rnrcqffdjfg",
        "colab_type": "text"
      },
      "source": [
        "####  Most commonly used Hashtags"
      ]
    },
    {
      "cell_type": "code",
      "metadata": {
        "id": "PSLgg9qDdjfj",
        "colab_type": "code",
        "colab": {}
      },
      "source": [
        "# function to collect hashtags\n",
        "def hashtag_extract(text_list):\n",
        "    hashtags = []\n",
        "    # Loop over the words in the tweet\n",
        "    for text in text_list:\n",
        "        ht = re.findall(r\"#(\\w+)\", text)\n",
        "        hashtags.append(ht)\n",
        "\n",
        "    return hashtags\n",
        "\n",
        "def generate_hashtag_freqdist(hashtags):\n",
        "    a = nltk.FreqDist(hashtags)\n",
        "    d = pd.DataFrame({'Hashtag': list(a.keys()),\n",
        "                      'Count': list(a.values())})\n",
        "    # selecting top 15 most frequent hashtags     \n",
        "    d = d.nlargest(columns=\"Count\", n = 25)\n",
        "    plt.figure(figsize=(16,7))\n",
        "    ax = sns.barplot(data=d, x= \"Hashtag\", y = \"Count\")\n",
        "    plt.xticks(rotation=80)\n",
        "    ax.set(ylabel = 'Count')\n",
        "    plt.show()"
      ],
      "execution_count": null,
      "outputs": []
    },
    {
      "cell_type": "code",
      "metadata": {
        "id": "6KhahaXLdjfw",
        "colab_type": "code",
        "colab": {}
      },
      "source": [
        "hashtags = hashtag_extract(results_data['text'])\n",
        "hashtags = sum(hashtags, [])"
      ],
      "execution_count": null,
      "outputs": []
    },
    {
      "cell_type": "code",
      "metadata": {
        "id": "y6k3KJFYdjf8",
        "colab_type": "code",
        "colab": {}
      },
      "source": [
        "generate_hashtag_freqdist(hashtags)"
      ],
      "execution_count": null,
      "outputs": []
    },
    {
      "cell_type": "markdown",
      "metadata": {
        "id": "1C7JKdiadjgn",
        "colab_type": "text"
      },
      "source": [
        "### 1.20 Vectorisation"
      ]
    },
    {
      "cell_type": "code",
      "metadata": {
        "id": "JczIxAg8djgs",
        "colab_type": "code",
        "colab": {}
      },
      "source": [
        "countVectorizer = CountVectorizer(analyzer=clean_text) \n",
        "countVector = countVectorizer.fit_transform(df['Tweet'])"
      ],
      "execution_count": null,
      "outputs": []
    },
    {
      "cell_type": "code",
      "metadata": {
        "id": "kQsJWje7djg5",
        "colab_type": "code",
        "colab": {}
      },
      "source": [
        ""
      ],
      "execution_count": null,
      "outputs": []
    }
  ]
}